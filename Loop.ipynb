{
 "cells": [
  {
   "cell_type": "code",
   "execution_count": null,
   "metadata": {},
   "outputs": [],
   "source": [
    "# Loop through a range of numbers (0 through 4)\n",
    "for x in range(5):\n",
    "    print(x)\n",
    "\n",
    "print(\"---------------------------------\")\n",
    "\n",
    "# Loop through a range of numbers (2 through 6 - yes 6! Up to, but not including, 7)\n",
    "for x in range(2, 7):\n",
    "    print(x)\n",
    "\n",
    "print(\"----------------------------------------\")\n",
    "\n",
    "# Iterate through letters in a string\n",
    "word = \"Peace\"\n",
    "for letters in word:\n",
    "    print(letters)\n",
    "\n",
    "print(\"----------------------------------------\")\n",
    "\n",
    "# Loop while a condition is being met\n",
    "run = \"y\"\n",
    "\n",
    "while run == \"y\":\n",
    "    print(\"Hi!\")\n",
    "    run = input(\"To run again. Enter 'y'\")\n"
   ]
  },
  {
   "cell_type": "code",
   "execution_count": null,
   "metadata": {},
   "outputs": [],
   "source": []
  }
 ],
 "metadata": {
  "kernelspec": {
   "display_name": "Python 3",
   "language": "python",
   "name": "python3"
  },
  "language_info": {
   "codemirror_mode": {
    "name": "ipython",
    "version": 3
   },
   "file_extension": ".py",
   "mimetype": "text/x-python",
   "name": "python",
   "nbconvert_exporter": "python",
   "pygments_lexer": "ipython3",
   "version": "3.7.6"
  }
 },
 "nbformat": 4,
 "nbformat_minor": 4
}
